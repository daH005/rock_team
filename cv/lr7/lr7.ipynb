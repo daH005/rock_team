{
 "cells": [
  {
   "cell_type": "markdown",
   "metadata": {},
   "source": [
    "На основе примера из лекции реализовать GAN, генерирующую изображения одежды (датасет fashion_mnist). Архитектуру нейронки (GAN) менять нельзя, слои изменять/добавлять - можно."
   ]
  },
  {
   "cell_type": "code",
   "execution_count": 25,
   "metadata": {
    "id": "JZErsTcklpAI"
   },
   "outputs": [],
   "source": [
    "import numpy as np\n",
    "import matplotlib.pyplot as plt\n",
    "import time\n",
    "\n",
    "from tensorflow.keras.datasets import fashion_mnist\n",
    "import tensorflow.keras.backend as K\n",
    "import tensorflow as tf\n",
    "from tensorflow.keras.layers import Dense, Flatten, Reshape, Input, BatchNormalization, Dropout\n",
    "from tensorflow.keras.layers import Conv2D, Conv2DTranspose, LeakyReLU"
   ]
  },
  {
   "cell_type": "code",
   "execution_count": 26,
   "metadata": {
    "colab": {
     "base_uri": "https://localhost:8080/"
    },
    "id": "gwJg7d0DlzDf",
    "outputId": "01221404-96f2-4c02-d619-02bc3dcd2c19"
   },
   "outputs": [
    {
     "name": "stdout",
     "output_type": "stream",
     "text": [
      "Downloading data from https://storage.googleapis.com/tensorflow/tf-keras-datasets/train-labels-idx1-ubyte.gz\n",
      "\u001b[1m29515/29515\u001b[0m \u001b[32m━━━━━━━━━━━━━━━━━━━━\u001b[0m\u001b[37m\u001b[0m \u001b[1m0s\u001b[0m 3us/step\n",
      "Downloading data from https://storage.googleapis.com/tensorflow/tf-keras-datasets/train-images-idx3-ubyte.gz\n",
      "\u001b[1m26421880/26421880\u001b[0m \u001b[32m━━━━━━━━━━━━━━━━━━━━\u001b[0m\u001b[37m\u001b[0m \u001b[1m5s\u001b[0m 0us/step\n",
      "Downloading data from https://storage.googleapis.com/tensorflow/tf-keras-datasets/t10k-labels-idx1-ubyte.gz\n",
      "\u001b[1m5148/5148\u001b[0m \u001b[32m━━━━━━━━━━━━━━━━━━━━\u001b[0m\u001b[37m\u001b[0m \u001b[1m0s\u001b[0m 0us/step\n",
      "Downloading data from https://storage.googleapis.com/tensorflow/tf-keras-datasets/t10k-images-idx3-ubyte.gz\n",
      "\u001b[1m4422102/4422102\u001b[0m \u001b[32m━━━━━━━━━━━━━━━━━━━━\u001b[0m\u001b[37m\u001b[0m \u001b[1m1s\u001b[0m 0us/step\n"
     ]
    }
   ],
   "source": [
    "(x_train, y_train), (x_test, y_test) = fashion_mnist.load_data()"
   ]
  },
  {
   "cell_type": "code",
   "execution_count": 27,
   "metadata": {
    "id": "hhf67Jp9l2xZ"
   },
   "outputs": [],
   "source": [
    "x_train = x_train[y_train == 7]\n",
    "y_train = y_train[y_train == 7]\n"
   ]
  },
  {
   "cell_type": "code",
   "execution_count": 28,
   "metadata": {
    "id": "Eps8MmFzl6jg"
   },
   "outputs": [],
   "source": [
    "BUFFER_SIZE = x_train.shape[0]\n",
    "BATCH_SIZE = 100\n"
   ]
  },
  {
   "cell_type": "code",
   "execution_count": 29,
   "metadata": {
    "colab": {
     "base_uri": "https://localhost:8080/"
    },
    "id": "snNq2qccl_SM",
    "outputId": "9d952840-917c-4e22-bbc6-8a9080251e62"
   },
   "outputs": [
    {
     "name": "stdout",
     "output_type": "stream",
     "text": [
      "(6000, 28, 28) (6000,)\n"
     ]
    }
   ],
   "source": [
    "BUFFER_SIZE = BUFFER_SIZE // BATCH_SIZE * BATCH_SIZE\n",
    "x_train = x_train[:BUFFER_SIZE]\n",
    "y_train = y_train[:BUFFER_SIZE]\n",
    "print(x_train.shape, y_train.shape)"
   ]
  },
  {
   "cell_type": "code",
   "execution_count": 30,
   "metadata": {
    "id": "_6nGW_AbmCte"
   },
   "outputs": [],
   "source": [
    "x_train = x_train / 255\n",
    "x_test = x_test / 255"
   ]
  },
  {
   "cell_type": "code",
   "execution_count": 31,
   "metadata": {
    "id": "7OH_pCsomGBV"
   },
   "outputs": [],
   "source": [
    "x_train = np.reshape(x_train, (len(x_train), 28, 28, 1))\n",
    "x_test = np.reshape(x_test, (len(x_test), 28, 28, 1))"
   ]
  },
  {
   "cell_type": "code",
   "execution_count": 32,
   "metadata": {
    "id": "gbS6vycMmJUm"
   },
   "outputs": [],
   "source": [
    "train_dataset = tf.data.Dataset.from_tensor_slices(x_train).shuffle(BUFFER_SIZE).batch(BATCH_SIZE)"
   ]
  },
  {
   "cell_type": "code",
   "execution_count": 33,
   "metadata": {
    "id": "BiHvmUB3mQ4t"
   },
   "outputs": [],
   "source": [
    "hidden_dim = 2"
   ]
  },
  {
   "cell_type": "code",
   "execution_count": 34,
   "metadata": {
    "id": "IRCQ0uppmRqv"
   },
   "outputs": [],
   "source": [
    "def dropout_and_batch():\n",
    "  return Dropout(0.3)(BatchNormalization())"
   ]
  },
  {
   "cell_type": "code",
   "execution_count": 35,
   "metadata": {
    "id": "RUN0gPGvmUt_"
   },
   "outputs": [],
   "source": [
    "# генератор\n",
    "generator = tf.keras.Sequential([\n",
    "  Dense(7 * 7 * 256, activation='relu', input_shape=(hidden_dim,)),\n",
    "  BatchNormalization(),\n",
    "  Reshape((7, 7, 256)),\n",
    "  Conv2DTranspose(128, (5, 5), strides=(1, 1), padding='same', activation='relu'),\n",
    "  BatchNormalization(),\n",
    "  Conv2DTranspose(64, (5, 5), strides=(2, 2), padding='same', activation='relu'),\n",
    "  BatchNormalization(),\n",
    "  Conv2DTranspose(1, (5, 5), strides=(2, 2), padding='same', activation='sigmoid'),\n",
    "])\n"
   ]
  },
  {
   "cell_type": "code",
   "execution_count": 36,
   "metadata": {
    "id": "TyN_7ryKmZpd"
   },
   "outputs": [],
   "source": [
    "# дискриминатор\n",
    "discriminator = tf.keras.Sequential()\n",
    "discriminator.add(Conv2D(64, (5, 5), strides=(2, 2), padding='same', input_shape=[28, 28, 1]))\n",
    "discriminator.add(LeakyReLU())\n",
    "discriminator.add(Dropout(0.3))\n",
    "\n",
    "discriminator.add(Conv2D(128, (5, 5), strides=(2, 2), padding='same'))\n",
    "discriminator.add(LeakyReLU())\n",
    "discriminator.add(Dropout(0.3))\n",
    "\n",
    "discriminator.add(Flatten())\n",
    "discriminator.add(Dense(1))"
   ]
  },
  {
   "cell_type": "code",
   "execution_count": 37,
   "metadata": {
    "id": "jWSzVy9ymdDS"
   },
   "outputs": [],
   "source": [
    "# потери\n",
    "cross_entropy = tf.keras.losses.BinaryCrossentropy(from_logits=True)\n"
   ]
  },
  {
   "cell_type": "code",
   "execution_count": 38,
   "metadata": {
    "id": "djiwxWsumf35"
   },
   "outputs": [],
   "source": [
    "def generator_loss(fake_output):\n",
    "  loss = cross_entropy(tf.ones_like(fake_output), fake_output)\n",
    "  return loss\n"
   ]
  },
  {
   "cell_type": "code",
   "execution_count": 39,
   "metadata": {
    "id": "mCbN73f4mieo"
   },
   "outputs": [],
   "source": [
    "def discriminator_loss(real_output, fake_output):\n",
    "  real_loss = cross_entropy(tf.ones_like(real_output), real_output)\n",
    "  fake_loss = cross_entropy(tf.zeros_like(fake_output), fake_output)\n",
    "  total_loss = real_loss + fake_loss\n",
    "  return total_loss\n"
   ]
  },
  {
   "cell_type": "code",
   "execution_count": 40,
   "metadata": {
    "id": "IU82JVeNmldb"
   },
   "outputs": [],
   "source": [
    "generator_optimizer = tf.keras.optimizers.Adam(1e-4)\n",
    "discriminator_optimizer = tf.keras.optimizers.Adam(1e-4)"
   ]
  },
  {
   "cell_type": "code",
   "execution_count": 41,
   "metadata": {
    "id": "scdg8VfemoYH"
   },
   "outputs": [],
   "source": [
    "# обучение\n",
    "@tf.function\n",
    "def train_step(images):\n",
    "  noise = tf.random.normal([BATCH_SIZE, hidden_dim])\n",
    "\n",
    "  with tf.GradientTape() as gen_tape, tf.GradientTape() as disc_tape:\n",
    "    generated_images = generator(noise, training=True)\n",
    "\n",
    "    real_output = discriminator(images, training=True)\n",
    "    fake_output = discriminator(generated_images, training=True)\n",
    "\n",
    "    gen_loss = generator_loss(fake_output)\n",
    "    disc_loss = discriminator_loss(real_output, fake_output)\n",
    "\n",
    "  gradients_of_generator = gen_tape.gradient(gen_loss, generator.trainable_variables)\n",
    "  gradients_of_discriminator = disc_tape.gradient(disc_loss, discriminator.trainable_variables)\n",
    "\n",
    "  generator_optimizer.apply_gradients(zip(gradients_of_generator, generator.trainable_variables))\n",
    "  discriminator_optimizer.apply_gradients(zip(gradients_of_discriminator, discriminator.trainable_variables))\n",
    "\n",
    "  return gen_loss, disc_loss\n"
   ]
  },
  {
   "cell_type": "code",
   "execution_count": 42,
   "metadata": {
    "id": "xL0_yiKZmsAH"
   },
   "outputs": [],
   "source": [
    "def train(dataset, epochs):\n",
    "  history = []\n",
    "  MAX_PRINT_LABEL = 10\n",
    "  th = BUFFER_SIZE // (BATCH_SIZE * MAX_PRINT_LABEL)\n",
    "\n",
    "  for epoch in range(1, epochs + 1):\n",
    "    print(f'{epoch}/{EPOCHS}: ', end='')\n",
    "\n",
    "    start = time.time()\n",
    "    n = 0\n",
    "\n",
    "    gen_loss_epoch = 0\n",
    "    for image_batch in dataset:\n",
    "      gen_loss, disc_loss = train_step(image_batch)\n",
    "      gen_loss_epoch += K.mean(gen_loss)\n",
    "      if (n % th == 0): print('=', end='')\n",
    "      n += 1\n",
    "\n",
    "    history += [gen_loss_epoch / n]\n",
    "    print(': ' + str(history[-1]))\n",
    "    print('Время эпохи {} составляет {} секунд'.format(epoch, time.time() - start))\n",
    "\n",
    "  return history"
   ]
  },
  {
   "cell_type": "code",
   "execution_count": 43,
   "metadata": {
    "colab": {
     "base_uri": "https://localhost:8080/"
    },
    "id": "zbqhj76UmuzD",
    "outputId": "75d1e0a3-bc55-43f8-afd8-3dc68036d94d"
   },
   "outputs": [
    {
     "name": "stdout",
     "output_type": "stream",
     "text": [
      "1/30: "
     ]
    },
    {
     "name": "stderr",
     "output_type": "stream",
     "text": [
      "E0000 00:00:1749906083.730666  112825 meta_optimizer.cc:967] remapper failed: INVALID_ARGUMENT: Mutation::Apply error: fanout 'gradient_tape/sequential_3_1/leaky_re_lu_2_1/LeakyRelu/LeakyReluGrad' exist for missing node 'sequential_3_1/conv2d_2_1/BiasAdd'.\n"
     ]
    },
    {
     "name": "stdout",
     "output_type": "stream",
     "text": [
      "==========: tf.Tensor(1.2449831, shape=(), dtype=float32)\n",
      "Время эпохи 1 составляет 16.39225745201111 секунд\n",
      "2/30: ==========: tf.Tensor(1.7615803, shape=(), dtype=float32)\n",
      "Время эпохи 2 составляет 10.879809141159058 секунд\n",
      "3/30: ==========: tf.Tensor(1.9954621, shape=(), dtype=float32)\n",
      "Время эпохи 3 составляет 10.998616218566895 секунд\n",
      "4/30: ==========: tf.Tensor(1.9033997, shape=(), dtype=float32)\n",
      "Время эпохи 4 составляет 14.63252878189087 секунд\n",
      "5/30: ==========: tf.Tensor(1.6770777, shape=(), dtype=float32)\n",
      "Время эпохи 5 составляет 11.074436664581299 секунд\n",
      "6/30: ==========: tf.Tensor(1.5683869, shape=(), dtype=float32)\n",
      "Время эпохи 6 составляет 15.767830610275269 секунд\n",
      "7/30: ==========: tf.Tensor(1.1197022, shape=(), dtype=float32)\n",
      "Время эпохи 7 составляет 12.33623743057251 секунд\n",
      "8/30: ==========: tf.Tensor(1.0166147, shape=(), dtype=float32)\n",
      "Время эпохи 8 составляет 12.524897336959839 секунд\n",
      "9/30: ==========: tf.Tensor(1.1082492, shape=(), dtype=float32)\n",
      "Время эпохи 9 составляет 16.317073345184326 секунд\n",
      "10/30: ==========: tf.Tensor(1.0284224, shape=(), dtype=float32)\n",
      "Время эпохи 10 составляет 12.703860998153687 секунд\n",
      "11/30: ==========: tf.Tensor(1.1215032, shape=(), dtype=float32)\n",
      "Время эпохи 11 составляет 16.34195065498352 секунд\n",
      "12/30: ==========: tf.Tensor(1.1759397, shape=(), dtype=float32)\n",
      "Время эпохи 12 составляет 12.836052179336548 секунд\n",
      "13/30: ==========: tf.Tensor(0.9429085, shape=(), dtype=float32)\n",
      "Время эпохи 13 составляет 12.723183870315552 секунд\n",
      "14/30: ==========: tf.Tensor(0.9353782, shape=(), dtype=float32)\n",
      "Время эпохи 14 составляет 16.280348777770996 секунд\n",
      "15/30: ==========: tf.Tensor(0.97558, shape=(), dtype=float32)\n",
      "Время эпохи 15 составляет 13.02509331703186 секунд\n",
      "16/30: ==========: tf.Tensor(1.0276629, shape=(), dtype=float32)\n",
      "Время эпохи 16 составляет 12.739842176437378 секунд\n",
      "17/30: ==========: tf.Tensor(0.8891404, shape=(), dtype=float32)\n",
      "Время эпохи 17 составляет 16.305983066558838 секунд\n",
      "18/30: ==========: tf.Tensor(0.7881374, shape=(), dtype=float32)\n",
      "Время эпохи 18 составляет 12.709044694900513 секунд\n",
      "19/30: ==========: tf.Tensor(0.91169953, shape=(), dtype=float32)\n",
      "Время эпохи 19 составляет 16.447587251663208 секунд\n",
      "20/30: ==========: tf.Tensor(0.9312279, shape=(), dtype=float32)\n",
      "Время эпохи 20 составляет 12.967251062393188 секунд\n",
      "21/30: ==========: tf.Tensor(0.85980344, shape=(), dtype=float32)\n",
      "Время эпохи 21 составляет 12.78952407836914 секунд\n",
      "22/30: ==========: tf.Tensor(1.0106696, shape=(), dtype=float32)\n",
      "Время эпохи 22 составляет 16.305288791656494 секунд\n",
      "23/30: ==========: tf.Tensor(0.82049376, shape=(), dtype=float32)\n",
      "Время эпохи 23 составляет 12.740209817886353 секунд\n",
      "24/30: =========="
     ]
    },
    {
     "name": "stderr",
     "output_type": "stream",
     "text": [
      "2025-06-14 18:06:56.138873: I tensorflow/core/framework/local_rendezvous.cc:407] Local rendezvous is aborting with status: OUT_OF_RANGE: End of sequence\n"
     ]
    },
    {
     "name": "stdout",
     "output_type": "stream",
     "text": [
      ": tf.Tensor(0.8740882, shape=(), dtype=float32)\n",
      "Время эпохи 24 составляет 16.330120086669922 секунд\n",
      "25/30: ==========: tf.Tensor(0.8614185, shape=(), dtype=float32)\n",
      "Время эпохи 25 составляет 12.706499576568604 секунд\n",
      "26/30: ==========: tf.Tensor(0.9167325, shape=(), dtype=float32)\n",
      "Время эпохи 26 составляет 12.68966794013977 секунд\n",
      "27/30: ==========: tf.Tensor(0.9220675, shape=(), dtype=float32)\n",
      "Время эпохи 27 составляет 16.433353185653687 секунд\n",
      "28/30: ==========: tf.Tensor(0.88487065, shape=(), dtype=float32)\n",
      "Время эпохи 28 составляет 12.712383270263672 секунд\n",
      "29/30: ==========: tf.Tensor(0.78788286, shape=(), dtype=float32)\n",
      "Время эпохи 29 составляет 16.350594520568848 секунд\n",
      "30/30: ==========: tf.Tensor(1.1160997, shape=(), dtype=float32)\n",
      "Время эпохи 30 составляет 12.735361099243164 секунд\n"
     ]
    }
   ],
   "source": [
    "# запуск процесса обучения\n",
    "EPOCHS = 30\n",
    "history = train(train_dataset, EPOCHS)\n"
   ]
  },
  {
   "cell_type": "code",
   "execution_count": 44,
   "metadata": {
    "colab": {
     "base_uri": "https://localhost:8080/",
     "height": 430
    },
    "id": "9eLl-GVrm0xO",
    "outputId": "543c5b44-7d57-48d5-8086-e08ec0593bef"
   },
   "outputs": [
    {
     "data": {
      "image/png": "[encoded data removed]",
      "text/plain": [
       "<Figure size 640x480 with 1 Axes>"
      ]
     },
     "metadata": {},
     "output_type": "display_data"
    }
   ],
   "source": [
    "plt.plot(history)\n",
    "plt.grid(True)\n",
    "plt.show()"
   ]
  },
  {
   "cell_type": "code",
   "execution_count": 57,
   "metadata": {
    "colab": {
     "base_uri": "https://localhost:8080/",
     "height": 856
    },
    "id": "e-jnq7lQm5QH",
    "outputId": "283e012f-2bfe-4529-836c-cdd593f26447"
   },
   "outputs": [
    {
     "name": "stdout",
     "output_type": "stream",
     "text": [
      "\u001b[1m1/1\u001b[0m \u001b[32m━━━━━━━━━━━━━━━━━━━━\u001b[0m\u001b[37m\u001b[0m \u001b[1m0s\u001b[0m 75ms/step\n",
      "\u001b[1m1/1\u001b[0m \u001b[32m━━━━━━━━━━━━━━━━━━━━\u001b[0m\u001b[37m\u001b[0m \u001b[1m0s\u001b[0m 31ms/step\n",
      "\u001b[1m1/1\u001b[0m \u001b[32m━━━━━━━━━━━━━━━━━━━━\u001b[0m\u001b[37m\u001b[0m \u001b[1m0s\u001b[0m 31ms/step\n",
      "\u001b[1m1/1\u001b[0m \u001b[32m━━━━━━━━━━━━━━━━━━━━\u001b[0m\u001b[37m\u001b[0m \u001b[1m0s\u001b[0m 26ms/step\n",
      "\u001b[1m1/1\u001b[0m \u001b[32m━━━━━━━━━━━━━━━━━━━━\u001b[0m\u001b[37m\u001b[0m \u001b[1m0s\u001b[0m 27ms/step\n",
      "\u001b[1m1/1\u001b[0m \u001b[32m━━━━━━━━━━━━━━━━━━━━\u001b[0m\u001b[37m\u001b[0m \u001b[1m0s\u001b[0m 28ms/step\n",
      "\u001b[1m1/1\u001b[0m \u001b[32m━━━━━━━━━━━━━━━━━━━━\u001b[0m\u001b[37m\u001b[0m \u001b[1m0s\u001b[0m 28ms/step\n",
      "\u001b[1m1/1\u001b[0m \u001b[32m━━━━━━━━━━━━━━━━━━━━\u001b[0m\u001b[37m\u001b[0m \u001b[1m0s\u001b[0m 29ms/step\n",
      "\u001b[1m1/1\u001b[0m \u001b[32m━━━━━━━━━━━━━━━━━━━━\u001b[0m\u001b[37m\u001b[0m \u001b[1m0s\u001b[0m 30ms/step\n"
     ]
    },
    {
     "data": {
      "image/png": "[encoded data removed]",
      "text/plain": [
       "<Figure size 300x300 with 9 Axes>"
      ]
     },
     "metadata": {},
     "output_type": "display_data"
    }
   ],
   "source": [
    "# отображение результатов генерации\n",
    "n = 1\n",
    "total = 2 * n + 1\n",
    "\n",
    "plt.figure(figsize=(total, total))\n",
    "\n",
    "num = 1\n",
    "for i in range(-n, n + 1):\n",
    "  for j in range(-n, n + 1):\n",
    "    ax = plt.subplot(total, total, num)\n",
    "    num += 1\n",
    "    img = generator.predict(np.expand_dims([0.5 * i / n, 0.5 * j / n], axis=0))\n",
    "    plt.imshow(img[0, :, :, 0], cmap='gray')\n",
    "    ax.get_xaxis().set_visible(False)\n",
    "    ax.get_yaxis().set_visible(False)\n",
    "\n",
    "plt.show()"
   ]
  },
  {
   "cell_type": "code",
   "execution_count": null,
   "metadata": {},
   "outputs": [],
   "source": []
  }
 ],
 "metadata": {
  "colab": {
   "provenance": []
  },
  "kernelspec": {
   "display_name": "Python 3 (ipykernel)",
   "language": "python",
   "name": "python3"
  },
  "language_info": {
   "codemirror_mode": {
    "name": "ipython",
    "version": 3
   },
   "file_extension": ".py",
   "mimetype": "text/x-python",
   "name": "python",
   "nbconvert_exporter": "python",
   "pygments_lexer": "ipython3",
   "version": "3.10.12"
  }
 },
 "nbformat": 4,
 "nbformat_minor": 4
}
