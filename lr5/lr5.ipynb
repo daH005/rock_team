{
 "cells": [
  {
   "cell_type": "markdown",
   "id": "c24d3fc7-b458-4678-8e99-679b3ab533f8",
   "metadata": {},
   "source": [
    "К сожалению методами ИИ задачу решить пока не получилось. Перевод сделан простыми алгоритмами. Пока не все сделано, программа будет совершенствоваться."
   ]
  },
  {
   "cell_type": "code",
   "execution_count": 40,
   "id": "5ab7e4b1-0108-40b1-901b-940fb9fb1608",
   "metadata": {},
   "outputs": [],
   "source": [
    "import pandas as pd\n",
    "\n",
    "import requests\n",
    "import re\n",
    "import string\n",
    "\n",
    "import pymorphy2\n",
    "lemmer = pymorphy2.MorphAnalyzer()"
   ]
  },
  {
   "cell_type": "code",
   "execution_count": 41,
   "id": "22b4a420-c9a7-4fba-a953-c306550bd2e1",
   "metadata": {},
   "outputs": [],
   "source": [
    "word_df = pd.read_csv('../lr3/witcher_words.csv')\n",
    "phrase_df = pd.read_csv('../lr3/witcher_phrases.csv')  # Пока не используется."
   ]
  },
  {
   "cell_type": "code",
   "execution_count": 44,
   "id": "f271ebd5-0728-4dfd-9f5f-0e5a102c3457",
   "metadata": {},
   "outputs": [],
   "source": [
    "def translate_text_to_elf(text: str) -> str:\n",
    "    \"\"\"Переводит текст на язык Старшей Речи.\"\"\"\n",
    "\n",
    "    text = text.replace('ё', 'е')\n",
    "    for punc in string.punctuation:\n",
    "        text = text.replace(punc, '')\n",
    "\n",
    "    translated_words = []\n",
    "    for word in text.lower().split():\n",
    "        word = _word_to_lemm(word)\n",
    "        translate = None\n",
    "        try:\n",
    "            translate = _try_to_find_russian_word_translate(word)\n",
    "        except ValueError:\n",
    "            for synonym in _synonyms_of_word(word):\n",
    "                try:\n",
    "                    translate = _try_to_find_russian_word_translate(word)\n",
    "                    break\n",
    "                except ValueError:\n",
    "                    continue\n",
    "\n",
    "        if translate is None:\n",
    "            translate = transliterate_russian_to_latin(word)\n",
    "\n",
    "        translated_words.append(translate)\n",
    "\n",
    "    return ' '.join(translated_words)\n",
    "\n",
    "\n",
    "def _word_to_lemm(word: str) -> str:\n",
    "    \"\"\"Переводит слово в начальную форму.\"\"\"\n",
    "    return lemmer.parse(word)[0].normal_form\n",
    "\n",
    "\n",
    "def _try_to_find_russian_word_translate(word: str) -> str:\n",
    "    \"\"\"Ищет перевод русского слова в датасете.\"\"\"\n",
    "    result = word_df.loc[word_df['translation'] == word, 'text']\n",
    "    if not result.empty:\n",
    "        return result.values[0]\n",
    "    else:\n",
    "        raise ValueError\n",
    "\n",
    "\n",
    "def _synonyms_of_word(word: str) -> str:\n",
    "    \"\"\"Выдаёт всевозможные синонимы заданного слова. Использует сетевой запрос.\"\"\"\n",
    "    html = requests.get(f'https://text.ru/synonym/{word}').text\n",
    "    \n",
    "    match = re.search(r'<meta name=\\\"description\\\" content=\\\"Синонимы к слову [^—]*:([^\\\"]+)\\\" />', html)\n",
    "    if match is None:\n",
    "        return []\n",
    "\n",
    "    text = match.group(1)\n",
    "    synonyms = [synonym.strip() for synonym in text.strip().split('—')]\n",
    "    synonyms.remove('')\n",
    "\n",
    "    return synonyms\n",
    "\n",
    "\n",
    "def transliterate_russian_to_latin(russian_word: str):\n",
    "    \"\"\"Функция для латинизации русского слова.\"\"\"\n",
    "    translit_dict = {\n",
    "        'а': 'a', 'б': 'b', 'в': 'v', 'г': 'g', 'д': 'd', 'е': 'e', 'ё': 'yo',\n",
    "        'ж': 'zh', 'з': 'z', 'и': 'i', 'й': 'y', 'к': 'k', 'л': 'l', 'м': 'm',\n",
    "        'н': 'n', 'о': 'o', 'п': 'p', 'р': 'r', 'с': 's', 'т': 't', 'у': 'u',\n",
    "        'ф': 'f', 'х': 'kh', 'ц': 'ts', 'ч': 'ch', 'ш': 'sh', 'щ': 'shch', 'ъ': '',\n",
    "        'ы': 'y', 'ь': '', 'э': 'e', 'ю': 'yu', 'я': 'ya'\n",
    "    }\n",
    "\n",
    "    latin_word = ''.join(translit_dict.get(char, char) for char in russian_word.lower())\n",
    "    return latin_word"
   ]
  },
  {
   "cell_type": "code",
   "execution_count": 46,
   "id": "742e1929-f1d9-4859-833e-c60af8d3ecac",
   "metadata": {},
   "outputs": [
    {
     "data": {
      "text/plain": [
       "'cead geralt me aymm avallakkh pomoch aé nayti zireael'"
      ]
     },
     "execution_count": 46,
     "metadata": {},
     "output_type": "execute_result"
    }
   ],
   "source": [
    "translate_text_to_elf('Здравствуй, Геральт! Моё имя - Аваллак\\'х! Помоги мне найти ласточку!')"
   ]
  },
  {
   "cell_type": "code",
   "execution_count": 47,
   "id": "ddb82075-5717-419e-882d-7c8c627482a6",
   "metadata": {},
   "outputs": [
    {
     "data": {
      "text/plain": [
       "'va faill luned sinn vort uvidetsya'"
      ]
     },
     "execution_count": 47,
     "metadata": {},
     "output_type": "execute_result"
    }
   ],
   "source": [
    "translate_text_to_elf('Прощай, дочь. Мы еще увидимся.')"
   ]
  },
  {
   "cell_type": "code",
   "execution_count": 48,
   "id": "ab05e27a-cc62-49de-94ef-31763f62bdf0",
   "metadata": {},
   "outputs": [
    {
     "data": {
      "text/plain": [
       "'cathain obed aé wett ithte'"
      ]
     },
     "execution_count": 48,
     "metadata": {},
     "output_type": "execute_result"
    }
   ],
   "source": [
    "translate_text_to_elf('Когда обед? Я хочу есть.')"
   ]
  },
  {
   "cell_type": "code",
   "execution_count": 49,
   "id": "22976b61-030b-4d51-8956-941678a1c66e",
   "metadata": {},
   "outputs": [
    {
     "data": {
      "text/plain": [
       "'pochemu etot kurs takoy slozhnyy aé neen ifit'"
      ]
     },
     "execution_count": 49,
     "metadata": {},
     "output_type": "execute_result"
    }
   ],
   "source": [
    "translate_text_to_elf('Почему этот курс такой сложный? Я не знаю.')"
   ]
  },
  {
   "cell_type": "code",
   "execution_count": null,
   "id": "cbc1ed2b-e2c6-4af1-9f37-9f7534281ad5",
   "metadata": {},
   "outputs": [],
   "source": []
  }
 ],
 "metadata": {
  "kernelspec": {
   "display_name": "Python 3 (ipykernel)",
   "language": "python",
   "name": "python3"
  },
  "language_info": {
   "codemirror_mode": {
    "name": "ipython",
    "version": 3
   },
   "file_extension": ".py",
   "mimetype": "text/x-python",
   "name": "python",
   "nbconvert_exporter": "python",
   "pygments_lexer": "ipython3",
   "version": "3.10.16"
  }
 },
 "nbformat": 4,
 "nbformat_minor": 5
}
