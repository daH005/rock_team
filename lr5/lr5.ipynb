{
 "cells": [
  {
   "cell_type": "markdown",
   "id": "c24d3fc7-b458-4678-8e99-679b3ab533f8",
   "metadata": {},
   "source": [
    "В этой работе мы реализуем переводчик с русского языка на язык Старшей Речи и наоборот. Тоже самое с английским.\n",
    "Реализуем следующими способами:\n",
    "- Прямым алгоритмом\n",
    "- Моделями:\n",
    "1. Deepseek\n",
    "2. Llama\n",
    "3. Alpaca\n",
    "\n",
    "На данный момент реализован только пункт 1 с русского на Старшую Речь."
   ]
  },
  {
   "cell_type": "code",
   "execution_count": 4,
   "id": "5ab7e4b1-0108-40b1-901b-940fb9fb1608",
   "metadata": {},
   "outputs": [],
   "source": [
    "import pandas as pd\n",
    "\n",
    "import requests\n",
    "import re\n",
    "import string\n",
    "\n",
    "import pymorphy2\n",
    "lemmer = pymorphy2.MorphAnalyzer()"
   ]
  },
  {
   "cell_type": "code",
   "execution_count": 5,
   "id": "22b4a420-c9a7-4fba-a953-c306550bd2e1",
   "metadata": {},
   "outputs": [],
   "source": [
    "df = pd.read_csv('../lr3/witcher_words.csv')"
   ]
  },
  {
   "cell_type": "code",
   "execution_count": 63,
   "id": "f271ebd5-0728-4dfd-9f5f-0e5a102c3457",
   "metadata": {},
   "outputs": [],
   "source": [
    "def translate_russian_to_elvish(text: str) -> str:\n",
    "    \"\"\"\n",
    "    Переводит русский текст на язык Старшей Речи.\n",
    "    Слова, перевод которым подобрать не получилось, латинизируются.\n",
    "    Присутствует обработка некоторых устойчивых выражений из словаря.\n",
    "    \"\"\"\n",
    "\n",
    "    # Унифицируем е/ё:\n",
    "    text = text.replace('ё', 'е')\n",
    "\n",
    "    # Результирующие подстроки для склеивания в конце.\n",
    "    result_subs = []\n",
    "\n",
    "    # Отделяем слова от пунктуационных знаков:\n",
    "    subs = re.split(r'(?<=\\.|!|\\?|,|;|:|\\s|\\n|\\(|\\))|(?=\\.|!|\\?|,|;|:|\\s|\\n|\\(|\\))', text)\n",
    "\n",
    "    next_i = 0\n",
    "    for i, sub in enumerate(subs):\n",
    "        if i < next_i:\n",
    "            continue\n",
    "\n",
    "        next_i += 1\n",
    "        if sub in string.punctuation + ' \\n':\n",
    "            result_subs.append(sub)\n",
    "            continue\n",
    "\n",
    "        word = sub\n",
    "        is_title = word.replace('\\'', '').istitle()\n",
    "        word = word.lower()\n",
    "        word = _word_to_lemm(word)\n",
    "\n",
    "        # Текущее слово может быть началом какого-то устойчивого выражения, проверим это.\n",
    "        it_is_real_phrase = False\n",
    "        phrases = _find_phrases_that_starts_with_russian_word(word)\n",
    "        if phrases and i != len(subs) - 1:\n",
    "            # Будем прибавлять сюда последующие пробелы и слова, пока не встретим что-то лишнее либо не убедимся\n",
    "            # в том, что это выражение - действительная устойчивая фраза из словаря.\n",
    "            summ_word = word\n",
    "\n",
    "            # Количество итераций для пропуска во внешнем цикле (через `next_i`)\n",
    "            count_to_pass = 0\n",
    "\n",
    "            for sub in subs[i + 1:]:\n",
    "                if sub in '.!?':\n",
    "                    break\n",
    "\n",
    "                count_to_pass += 1\n",
    "                if sub not in string.punctuation + ' ':\n",
    "                    sub = _word_to_lemm(sub.lower())\n",
    "                elif sub == ',':\n",
    "                    # Опускаем запятые между словами потенциальной фразы.\n",
    "                    sub = ''\n",
    "\n",
    "                summ_word += sub\n",
    "\n",
    "                need_continue = False\n",
    "                if summ_word in phrases:\n",
    "                    it_is_real_phrase = True\n",
    "                    break\n",
    "\n",
    "                for phrase in phrases:\n",
    "                    if summ_word in phrase:\n",
    "                        need_continue = True\n",
    "                        break\n",
    "\n",
    "                if not need_continue:\n",
    "                    break\n",
    "\n",
    "            if it_is_real_phrase:\n",
    "                word = summ_word\n",
    "                next_i += count_to_pass\n",
    "                translation = _try_to_find_russian_word_translation(word)\n",
    "\n",
    "        is_bad = False\n",
    "        if not it_is_real_phrase:\n",
    "            # Стандартная обработка одиночного слова с подбором синонимов через сайт.\n",
    "            translation = None\n",
    "            try:\n",
    "                translation = _try_to_find_russian_word_translation(word)\n",
    "            except ValueError:\n",
    "                for synonym in _synonyms_of_word(word):\n",
    "                    try:\n",
    "                        translation = _try_to_find_russian_word_translation(synonym)\n",
    "                    except ValueError:\n",
    "                        continue\n",
    "\n",
    "            if translation is None:\n",
    "                translation = _transliterate_russian_to_latin(word)\n",
    "                is_bad = True\n",
    "\n",
    "        if is_title:\n",
    "            translation = translation.capitalize()\n",
    "\n",
    "        if is_bad:\n",
    "            # Добавим подчеркивание \"неудачного\" слова:\n",
    "            translation = f'\\033[4m{translation}\\033[0m'\n",
    "\n",
    "        result_subs.append(translation)\n",
    "\n",
    "    return ''.join(result_subs)\n",
    "\n",
    "\n",
    "def _word_to_lemm(word: str) -> str:\n",
    "    \"\"\"Переводит слово/словосочетание в начальную форму.\"\"\"\n",
    "    parts = []\n",
    "    for part in word.split():\n",
    "        part = lemmer.parse(part)[0].normal_form.replace('ё', 'е')\n",
    "        parts.append(part)\n",
    "\n",
    "    return ' '.join(parts)\n",
    "\n",
    "\n",
    "def _try_to_find_russian_word_translation(word: str) -> str:\n",
    "    \"\"\"Ищет перевод русского слова/словосочетания в датасете.\"\"\"\n",
    "    result = df.loc[df['translation'] == word, 'text']\n",
    "    if not result.empty:\n",
    "        return result.values[0]\n",
    "    else:\n",
    "        raise ValueError\n",
    "\n",
    "\n",
    "def _find_phrases_that_starts_with_russian_word(word: str) -> list[str]:\n",
    "    return df.loc[df['translation'].str.startswith(word) & df['translation'].str.contains(' '), 'translation'].tolist()\n",
    "\n",
    "\n",
    "def _synonyms_of_word(word: str) -> str:\n",
    "    \"\"\"Выдаёт всевозможные синонимы заданного слова. Использует сетевой запрос.\"\"\"\n",
    "    html = requests.get(f'https://text.ru/synonym/{word}').text\n",
    "    \n",
    "    match = re.search(r'<meta name=\\\"description\\\" content=\\\"Синонимы к слову [^—]*:([^\\\"]+)\\\" />', html)\n",
    "    if match is None:\n",
    "        return []\n",
    "\n",
    "    text = match.group(1)\n",
    "    synonyms = [synonym.strip() for synonym in text.strip().split('—')]\n",
    "    synonyms.remove('')\n",
    "\n",
    "    return synonyms\n",
    "\n",
    "\n",
    "def _transliterate_russian_to_latin(russian_word: str) -> str:\n",
    "    \"\"\"Функция для латинизации русского слова.\"\"\"\n",
    "    translit_dict = {\n",
    "        'а': 'a', \n",
    "        'б': 'b', \n",
    "        'в': 'v', \n",
    "        'г': 'g', \n",
    "        'д': 'd', \n",
    "        'е': 'e', \n",
    "        'ё': 'yo',\n",
    "        'ж': 'zh', \n",
    "        'з': 'z', \n",
    "        'и': 'i', \n",
    "        'й': 'y', \n",
    "        'к': 'k', \n",
    "        'л': 'l', \n",
    "        'м': 'm',\n",
    "        'н': 'n', \n",
    "        'о': 'o', \n",
    "        'п': 'p', \n",
    "        'р': 'r', \n",
    "        'с': 's', \n",
    "        'т': 't', \n",
    "        'у': 'u',\n",
    "        'ф': 'f', \n",
    "        'х': 'kh', \n",
    "        'ц': 'ts', \n",
    "        'ч': 'ch', \n",
    "        'ш': 'sh', \n",
    "        'щ': 'shch', \n",
    "        'ъ': '',\n",
    "        'ы': 'y', \n",
    "        'ь': '', \n",
    "        'э': 'e', \n",
    "        'ю': 'yu', \n",
    "        'я': 'ya',\n",
    "    }\n",
    "\n",
    "    latin_word = ''.join(translit_dict.get(symbol, symbol) for symbol in russian_word.lower())\n",
    "    return latin_word"
   ]
  },
  {
   "cell_type": "markdown",
   "id": "6d94549c-4c3c-4402-be8e-dce8d18c1cb2",
   "metadata": {},
   "source": [
    "Попробуем посмотреть, как работает."
   ]
  },
  {
   "cell_type": "code",
   "execution_count": 64,
   "id": "742e1929-f1d9-4859-833e-c60af8d3ecac",
   "metadata": {},
   "outputs": [
    {
     "name": "stdout",
     "output_type": "stream",
     "text": [
      "Cead, \u001b[4mGeralt\u001b[0m Gwynbleidd! Me aymm - \u001b[4mAvallak'kha\u001b[0m! \u001b[4mPomoch\u001b[0m aé \u001b[4mnayti\u001b[0m zireael!\n"
     ]
    }
   ],
   "source": [
    "print(translate_russian_to_elvish('Здравствуй, Геральт Белый Волк! Моё имя - Аваллак\\'х! Помоги мне найти ласточку!'))"
   ]
  },
  {
   "cell_type": "code",
   "execution_count": 65,
   "id": "ddb82075-5717-419e-882d-7c8c627482a6",
   "metadata": {},
   "outputs": [
    {
     "name": "stdout",
     "output_type": "stream",
     "text": [
      "Va faill, luned. Sinn vort \u001b[4mvstretitsya\u001b[0m.\n"
     ]
    }
   ],
   "source": [
    "print(translate_russian_to_elvish('Прощай, дочь. Мы еще встретимся.'))"
   ]
  },
  {
   "cell_type": "code",
   "execution_count": 66,
   "id": "ab05e27a-cc62-49de-94ef-31763f62bdf0",
   "metadata": {},
   "outputs": [
    {
     "name": "stdout",
     "output_type": "stream",
     "text": [
      "Cathain \u001b[4mobed\u001b[0m? Aé wett ithte.\n"
     ]
    }
   ],
   "source": [
    "print(translate_russian_to_elvish('Когда обед? Я хочу есть.'))"
   ]
  },
  {
   "cell_type": "code",
   "execution_count": 67,
   "id": "22976b61-030b-4d51-8956-941678a1c66e",
   "metadata": {},
   "outputs": [
    {
     "name": "stdout",
     "output_type": "stream",
     "text": [
      "Que \u001b[4metot\u001b[0m rider \u001b[4mtakoy\u001b[0m \u001b[4mslozhnyy\u001b[0m? Aé neen ifit.\n"
     ]
    }
   ],
   "source": [
    "print(translate_russian_to_elvish('Почему этот курс такой сложный? Я не знаю.'))"
   ]
  },
  {
   "cell_type": "code",
   "execution_count": 68,
   "id": "cbc1ed2b-e2c6-4af1-9f37-9f7534281ad5",
   "metadata": {},
   "outputs": [
    {
     "name": "stdout",
     "output_type": "stream",
     "text": [
      "Caer a'muirehen elaine eate. Ei anseo conas eie.\n"
     ]
    }
   ],
   "source": [
    "print(translate_russian_to_elvish('Крепость Старого Моря прекрасна летом. Он здесь как картина.'))"
   ]
  },
  {
   "cell_type": "code",
   "execution_count": 69,
   "id": "7d517f64-72be-46d0-8dae-b374e660d928",
   "metadata": {},
   "outputs": [
    {
     "name": "stdout",
     "output_type": "stream",
     "text": [
      "Cead, esseath ghnath, meas.\n"
     ]
    }
   ],
   "source": [
    "print(translate_russian_to_elvish('Привет, я в порядке, спасибо.'))"
   ]
  },
  {
   "cell_type": "code",
   "execution_count": 70,
   "id": "6acc72fe-9418-4725-9bf0-24c279cf6dca",
   "metadata": {},
   "outputs": [
    {
     "name": "stdout",
     "output_type": "stream",
     "text": [
      "Que te eras'wett?\n"
     ]
    }
   ],
   "source": [
    "print(translate_russian_to_elvish('Что ты хочешь?'))"
   ]
  },
  {
   "cell_type": "code",
   "execution_count": 71,
   "id": "852640b4-9615-4074-bd7c-336dcfabb7f3",
   "metadata": {},
   "outputs": [
    {
     "name": "stdout",
     "output_type": "stream",
     "text": [
      "\u001b[4mZdarov\u001b[0m! Ceadmil!\n"
     ]
    }
   ],
   "source": [
    "print(translate_russian_to_elvish('Здарова! Привет всем!'))"
   ]
  },
  {
   "cell_type": "code",
   "execution_count": 72,
   "id": "7871867f-a064-45b9-a5ad-c79fdc6dfeac",
   "metadata": {},
   "outputs": [
    {
     "name": "stdout",
     "output_type": "stream",
     "text": [
      "Neen \u001b[4mzabyvat\u001b[0m, \u001b[4mTsiri\u001b[0m. Evellienn, cathain va'esse deireadh aep eigean va'esse eighe faidh'ar.\n"
     ]
    }
   ],
   "source": [
    "print(translate_russian_to_elvish('Не забывай, Цири. Всегда, когда что-то кончается, что-то начинается.'))"
   ]
  },
  {
   "cell_type": "code",
   "execution_count": 73,
   "id": "15693d33-3ad7-42a2-8533-1c8f7750dc54",
   "metadata": {},
   "outputs": [
    {
     "name": "stdout",
     "output_type": "stream",
     "text": [
      "А faoi lathair ayd tuve.\n"
     ]
    }
   ],
   "source": [
    "print(translate_russian_to_elvish('Это в настоящее время нельзя делать.'))"
   ]
  },
  {
   "cell_type": "code",
   "execution_count": 74,
   "id": "56d9d538-e928-4401-95dc-72490dd265eb",
   "metadata": {},
   "outputs": [
    {
     "name": "stdout",
     "output_type": "stream",
     "text": [
      "Esseath que! Aereeh't do aenye! An wenn beagnach muchfar.\n"
     ]
    }
   ],
   "source": [
    "print(translate_russian_to_elvish('Ты что! Следи за огнем! Костер почти прогорел.'))"
   ]
  },
  {
   "cell_type": "code",
   "execution_count": 75,
   "id": "0acc622d-9e4d-4c73-a5ff-09ebcc3ab5b2",
   "metadata": {},
   "outputs": [
    {
     "name": "stdout",
     "output_type": "stream",
     "text": [
      "\n",
      "\u001b[4mNuzhno\u001b[0m \u001b[4mskazat\u001b[0m, que \u001b[4mSapkovskiy\u001b[0m neen al eire \u001b[4mvzyat\u001b[0m peor't а ar \u001b[4myazyk\u001b[0m, que \u001b[4mzizhditsya\u001b[0m yn dearbh dearbh \u001b[4myazyk\u001b[0m.\n",
      "А \u001b[4mprimer\u001b[0m, \u001b[4melfiyskiy\u001b[0m speath \u001b[4mblaec\u001b[0m estoll \u001b[4mtief\u001b[0m \u001b[4mnapominat\u001b[0m \u001b[4mangliyskiy\u001b[0m \u001b[4mblack\u001b[0m estoll \u001b[4mthief\u001b[0m \u001b[4msootvetstvenno\u001b[0m.\n",
      "Ithte estoll evellienn \u001b[4mzaimstvovat\u001b[0m speath (\u001b[4muaigh\u001b[0m al \u001b[4mirlandskiy\u001b[0m, que ifit uaigh) estoll \u001b[4mprosto\u001b[0m \u001b[4mobrazovat\u001b[0m thar feabh'as\n",
      "\u001b[4miznachalnyy\u001b[0m speath (\u001b[4mdearme\u001b[0m (dearme) le \u001b[4modinakiy\u001b[0m aep \u001b[4mdream\u001b[0m). Ithte estoll evellienn \u001b[4mpridumat\u001b[0m speath,\n",
      "aevon \u001b[4mizmenit\u001b[0m \u001b[4mnastolko\u001b[0m, que ayd \u001b[4mponyat\u001b[0m, que \u001b[4msluzhit\u001b[0m а iad peor't.\n",
      "\n"
     ]
    }
   ],
   "source": [
    "print(translate_russian_to_elvish(\"\"\"\n",
    "Нужно сказать, что Сапковский не из воздуха взял основу для своего языка, а зиждился на реальных естественных языках.\n",
    "К примеру, эльфийские слова blaec и tief напоминают английские black и thief соответственно.\n",
    "Есть и полностью заимствованные слова (uaigh из ирландского, что значит могила) и просто образованные путём изменения\n",
    "изначальных слов (dearme (спать) практически одинакого с dream). Есть и полностью придуманные слова,\n",
    "или изменённые настолько, что нельзя понять, что служило для них основой.\n",
    "\"\"\"))"
   ]
  },
  {
   "cell_type": "code",
   "execution_count": null,
   "id": "6ec4c22e-5d09-496f-8ae3-f5c672caf7bb",
   "metadata": {},
   "outputs": [],
   "source": []
  }
 ],
 "metadata": {
  "kernelspec": {
   "display_name": "Python 3 (ipykernel)",
   "language": "python",
   "name": "python3"
  },
  "language_info": {
   "codemirror_mode": {
    "name": "ipython",
    "version": 3
   },
   "file_extension": ".py",
   "mimetype": "text/x-python",
   "name": "python",
   "nbconvert_exporter": "python",
   "pygments_lexer": "ipython3",
   "version": "3.10.12"
  }
 },
 "nbformat": 4,
 "nbformat_minor": 5
}
