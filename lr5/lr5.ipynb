{
 "cells": [
  {
   "cell_type": "markdown",
   "id": "c24d3fc7-b458-4678-8e99-679b3ab533f8",
   "metadata": {},
   "source": [
    "К сожалению методами ИИ задачу решить пока не получилось. Перевод сделан простыми алгоритмами. Пока не все сделано, программа будет совершенствоваться."
   ]
  },
  {
   "cell_type": "code",
   "execution_count": 63,
   "id": "5ab7e4b1-0108-40b1-901b-940fb9fb1608",
   "metadata": {},
   "outputs": [],
   "source": [
    "import pandas as pd\n",
    "\n",
    "import requests\n",
    "import re\n",
    "import string\n",
    "\n",
    "import pymorphy2\n",
    "lemmer = pymorphy2.MorphAnalyzer()"
   ]
  },
  {
   "cell_type": "code",
   "execution_count": 15,
   "id": "22b4a420-c9a7-4fba-a953-c306550bd2e1",
   "metadata": {},
   "outputs": [],
   "source": [
    "df = pd.read_csv('../lr3/witcher_words.csv')"
   ]
  },
  {
   "cell_type": "code",
   "execution_count": 74,
   "id": "f271ebd5-0728-4dfd-9f5f-0e5a102c3457",
   "metadata": {},
   "outputs": [],
   "source": [
    "def translate_russian_to_elvish(text: str) -> str:\n",
    "    \"\"\"Переводит русский текст на язык Старшей Речи.\"\"\"\n",
    "    # Унифицируем е/ё:\n",
    "    text = text.replace('ё', 'е')\n",
    "\n",
    "    # Бьём текст на части по пробелам.\n",
    "    translated_parts = []\n",
    "\n",
    "    parts = text.split()\n",
    "    for part in parts:\n",
    "\n",
    "        # Проверяем не является ли текущая часть набором знаков.\n",
    "        is_punctuation = True\n",
    "        for s in part:\n",
    "            if s not in string.punctuation:\n",
    "                is_punctuation = False\n",
    "                break\n",
    "\n",
    "        if is_punctuation:\n",
    "            translated_parts.append(part)\n",
    "            continue\n",
    "\n",
    "        part_len = len(part)\n",
    "\n",
    "        # Собираем знаки слева.\n",
    "        start_part_i = 0\n",
    "        for i in range(part_len):\n",
    "            if part[i] in string.punctuation:\n",
    "                start_part_i += 1\n",
    "            else:\n",
    "                break\n",
    "\n",
    "        # Собираем знаки справа.\n",
    "        end_part_i = part_len\n",
    "        for i in range(part_len):\n",
    "            if part[part_len - i - 1] in string.punctuation:\n",
    "                end_part_i -= 1\n",
    "            else:\n",
    "                break\n",
    "\n",
    "        # Распределяем на три части: знаки слева, чистое слово, знаки справа.\n",
    "        word = part[start_part_i:end_part_i]\n",
    "        start_part = part[0:start_part_i]\n",
    "        end_part = part[end_part_i:]\n",
    "\n",
    "        # Флаг для сохранения регистра первой буквы.\n",
    "        is_title = word.replace('\\'', '').istitle()\n",
    "\n",
    "        # Подбираем перевод слова.\n",
    "        word = word.lower()\n",
    "        word = _word_to_lemm(word)\n",
    "        translation = None\n",
    "        try:\n",
    "            translation = _try_to_find_russian_word_translation(word)\n",
    "        except ValueError:\n",
    "            for synonym in _synonyms_of_word(word):\n",
    "                try:\n",
    "                    translation = _try_to_find_russian_word_translation(synonym)\n",
    "                    break\n",
    "                except ValueError:\n",
    "                    continue\n",
    "\n",
    "        # Если перевода не нашлось, то делаем ужасные вещи...\n",
    "        if translation is None:\n",
    "            translation = transliterate_russian_to_latin(word)\n",
    "\n",
    "        # Возвращаем регистр первой буквы.\n",
    "        if is_title:\n",
    "            translation = translation.title()\n",
    "\n",
    "        # Формируем полную часть.\n",
    "        translation_part = start_part + translation + end_part\n",
    "        translated_parts.append(translation_part)\n",
    "\n",
    "    return ' '.join(translated_parts)\n",
    "\n",
    "\n",
    "def _word_to_lemm(word: str) -> str:\n",
    "    \"\"\"Переводит слово/словосочетание в начальную форму.\"\"\"\n",
    "    parts = []\n",
    "    for part in word.split():\n",
    "        part = lemmer.parse(part)[0].normal_form\n",
    "        parts.append(part)\n",
    "\n",
    "    return ' '.join(parts)\n",
    "\n",
    "\n",
    "def _try_to_find_russian_word_translation(word: str) -> str:\n",
    "    \"\"\"Ищет перевод русского слова в датасете.\"\"\"\n",
    "    result = df.loc[df['translation'] == word, 'text']\n",
    "    if not result.empty:\n",
    "        # phrases = df.loc[df['translation'].str.startswith(word) & df['translation'].str.contains(' '), 'translation'].tolist()\n",
    "        return result.values[0]\n",
    "    else:\n",
    "        raise ValueError\n",
    "\n",
    "\n",
    "def _synonyms_of_word(word: str) -> str:\n",
    "    \"\"\"Выдаёт всевозможные синонимы заданного слова. Использует сетевой запрос.\"\"\"\n",
    "    html = requests.get(f'https://text.ru/synonym/{word}').text\n",
    "    \n",
    "    match = re.search(r'<meta name=\\\"description\\\" content=\\\"Синонимы к слову [^—]*:([^\\\"]+)\\\" />', html)\n",
    "    if match is None:\n",
    "        return []\n",
    "\n",
    "    text = match.group(1)\n",
    "    synonyms = [synonym.strip() for synonym in text.strip().split('—')]\n",
    "    synonyms.remove('')\n",
    "\n",
    "    return synonyms\n",
    "\n",
    "\n",
    "def transliterate_russian_to_latin(russian_word: str) -> str:\n",
    "    \"\"\"Функция для латинизации русского слова.\"\"\"\n",
    "    translit_dict = {\n",
    "        'а': 'a', \n",
    "        'б': 'b', \n",
    "        'в': 'v', \n",
    "        'г': 'g', \n",
    "        'д': 'd', \n",
    "        'е': 'e', \n",
    "        'ё': 'yo',\n",
    "        'ж': 'zh', \n",
    "        'з': 'z', \n",
    "        'и': 'i', \n",
    "        'й': 'y', \n",
    "        'к': 'k', \n",
    "        'л': 'l', \n",
    "        'м': 'm',\n",
    "        'н': 'n', \n",
    "        'о': 'o', \n",
    "        'п': 'p', \n",
    "        'р': 'r', \n",
    "        'с': 's', \n",
    "        'т': 't', \n",
    "        'у': 'u',\n",
    "        'ф': 'f', \n",
    "        'х': 'kh', \n",
    "        'ц': 'ts', \n",
    "        'ч': 'ch', \n",
    "        'ш': 'sh', \n",
    "        'щ': 'shch', \n",
    "        'ъ': '',\n",
    "        'ы': 'y', \n",
    "        'ь': '', \n",
    "        'э': 'e', \n",
    "        'ю': 'yu', \n",
    "        'я': 'ya',\n",
    "    }\n",
    "\n",
    "    latin_word = ''.join(translit_dict.get(symbol, symbol) for symbol in russian_word.lower())\n",
    "    return latin_word"
   ]
  },
  {
   "cell_type": "code",
   "execution_count": 75,
   "id": "742e1929-f1d9-4859-833e-c60af8d3ecac",
   "metadata": {},
   "outputs": [
    {
     "data": {
      "text/plain": [
       "\"Cead, Geralt Gwen Bleidd! Me aymm - Avallak'Kha! Pomoch aé nayti zireael!\""
      ]
     },
     "execution_count": 75,
     "metadata": {},
     "output_type": "execute_result"
    }
   ],
   "source": [
    "translate_russian_to_elvish('Здравствуй, Геральт Белый Волк! Моё имя - Аваллак\\'х! Помоги мне найти ласточку!')"
   ]
  },
  {
   "cell_type": "code",
   "execution_count": 76,
   "id": "ddb82075-5717-419e-882d-7c8c627482a6",
   "metadata": {},
   "outputs": [
    {
     "data": {
      "text/plain": [
       "'Va Faill, luned. Sinn aris vstretitsya.'"
      ]
     },
     "execution_count": 76,
     "metadata": {},
     "output_type": "execute_result"
    }
   ],
   "source": [
    "translate_russian_to_elvish('Прощай, дочь. Мы еще встретимся.')"
   ]
  },
  {
   "cell_type": "code",
   "execution_count": 77,
   "id": "ab05e27a-cc62-49de-94ef-31763f62bdf0",
   "metadata": {},
   "outputs": [
    {
     "data": {
      "text/plain": [
       "'Cathain obed? Aé wett ithte.'"
      ]
     },
     "execution_count": 77,
     "metadata": {},
     "output_type": "execute_result"
    }
   ],
   "source": [
    "translate_russian_to_elvish('Когда обед? Я хочу есть.')"
   ]
  },
  {
   "cell_type": "code",
   "execution_count": 78,
   "id": "22976b61-030b-4d51-8956-941678a1c66e",
   "metadata": {},
   "outputs": [
    {
     "data": {
      "text/plain": [
       "'Hinc etot rider takoy slozhnyy? Aé neen ifit.'"
      ]
     },
     "execution_count": 78,
     "metadata": {},
     "output_type": "execute_result"
    }
   ],
   "source": [
    "translate_russian_to_elvish('Почему этот курс такой сложный? Я не знаю.')"
   ]
  },
  {
   "cell_type": "code",
   "execution_count": 79,
   "id": "cbc1ed2b-e2c6-4af1-9f37-9f7534281ad5",
   "metadata": {},
   "outputs": [
    {
     "data": {
      "text/plain": [
       "'Caer Muire elaine eate. Ei anseo conas eie.'"
      ]
     },
     "execution_count": 79,
     "metadata": {},
     "output_type": "execute_result"
    }
   ],
   "source": [
    "translate_russian_to_elvish('Замок Моря прекрасен летом. Он здесь как картина.')"
   ]
  },
  {
   "cell_type": "code",
   "execution_count": null,
   "id": "7d517f64-72be-46d0-8dae-b374e660d928",
   "metadata": {},
   "outputs": [],
   "source": []
  }
 ],
 "metadata": {
  "kernelspec": {
   "display_name": "Python 3 (ipykernel)",
   "language": "python",
   "name": "python3"
  },
  "language_info": {
   "codemirror_mode": {
    "name": "ipython",
    "version": 3
   },
   "file_extension": ".py",
   "mimetype": "text/x-python",
   "name": "python",
   "nbconvert_exporter": "python",
   "pygments_lexer": "ipython3",
   "version": "3.10.16"
  }
 },
 "nbformat": 4,
 "nbformat_minor": 5
}
